{
 "cells": [
  {
   "cell_type": "code",
   "execution_count": 9,
   "id": "e72d75db-ca6b-4eb3-a3bf-a633f4bcb14d",
   "metadata": {},
   "outputs": [],
   "source": [
    "import pandas as pd\n",
    "from IPython.display import display"
   ]
  },
  {
   "cell_type": "markdown",
   "id": "0390c222-932e-4ee2-bc26-2f15fb33e2ef",
   "metadata": {},
   "source": [
    "# Support Ticket Categorization"
   ]
  },
  {
   "cell_type": "markdown",
   "id": "49393cd6-793e-40f0-81a1-5aecf7320180",
   "metadata": {},
   "source": [
    "## Data Overview"
   ]
  },
  {
   "cell_type": "code",
   "execution_count": 11,
   "id": "b4496df3-2e06-459a-a644-469b8ca32967",
   "metadata": {},
   "outputs": [
    {
     "name": "stdout",
     "output_type": "stream",
     "text": [
      "Shape of dataframe: (21, 2)\n"
     ]
    },
    {
     "data": {
      "text/html": [
       "<div>\n",
       "<style scoped>\n",
       "    .dataframe tbody tr th:only-of-type {\n",
       "        vertical-align: middle;\n",
       "    }\n",
       "\n",
       "    .dataframe tbody tr th {\n",
       "        vertical-align: top;\n",
       "    }\n",
       "\n",
       "    .dataframe thead th {\n",
       "        text-align: right;\n",
       "    }\n",
       "</style>\n",
       "<table border=\"1\" class=\"dataframe\">\n",
       "  <thead>\n",
       "    <tr style=\"text-align: right;\">\n",
       "      <th></th>\n",
       "      <th>support_tick_id</th>\n",
       "      <th>support_ticket_text</th>\n",
       "    </tr>\n",
       "  </thead>\n",
       "  <tbody>\n",
       "    <tr>\n",
       "      <th>0</th>\n",
       "      <td>ST2023-006</td>\n",
       "      <td>My internet connection has significantly slowe...</td>\n",
       "    </tr>\n",
       "    <tr>\n",
       "      <th>1</th>\n",
       "      <td>ST2023-007</td>\n",
       "      <td>Urgent help required! My laptop refuses to sta...</td>\n",
       "    </tr>\n",
       "    <tr>\n",
       "      <th>2</th>\n",
       "      <td>ST2023-008</td>\n",
       "      <td>I've accidentally deleted essential work docum...</td>\n",
       "    </tr>\n",
       "    <tr>\n",
       "      <th>3</th>\n",
       "      <td>ST2023-009</td>\n",
       "      <td>Despite being in close proximity to my Wi-Fi r...</td>\n",
       "    </tr>\n",
       "    <tr>\n",
       "      <th>4</th>\n",
       "      <td>ST2023-010</td>\n",
       "      <td>My smartphone battery is draining rapidly, eve...</td>\n",
       "    </tr>\n",
       "  </tbody>\n",
       "</table>\n",
       "</div>"
      ],
      "text/plain": [
       "  support_tick_id                                support_ticket_text\n",
       "0      ST2023-006  My internet connection has significantly slowe...\n",
       "1      ST2023-007  Urgent help required! My laptop refuses to sta...\n",
       "2      ST2023-008  I've accidentally deleted essential work docum...\n",
       "3      ST2023-009  Despite being in close proximity to my Wi-Fi r...\n",
       "4      ST2023-010  My smartphone battery is draining rapidly, eve..."
      ]
     },
     "metadata": {},
     "output_type": "display_data"
    },
    {
     "name": "stdout",
     "output_type": "stream",
     "text": [
      "No missing values present\n"
     ]
    }
   ],
   "source": [
    "df = pd.read_csv(\"Support_ticket_text_data_mid_term.csv\")\n",
    "print(f\"Shape of dataframe: {df.shape}\")\n",
    "display(df.head())\n",
    "counter = 0\n",
    "for i in df[\"support_ticket_text\"].isna():\n",
    "    if i:\n",
    "        counter += 1\n",
    "\n",
    "if counter:\n",
    "    print(\"Missing values are present\")\n",
    "    print(f\"Number of missing values is {counter}\")\n",
    "else:\n",
    "    print(\"No missing values present\")"
   ]
  },
  {
   "cell_type": "markdown",
   "id": "a1b7b4ca-f58a-40ec-8d35-4d25db1af0d6",
   "metadata": {},
   "source": [
    "## Model Building"
   ]
  },
  {
   "cell_type": "code",
   "execution_count": null,
   "id": "c67d1f7d-a212-42e3-aed9-570532ec1363",
   "metadata": {},
   "outputs": [],
   "source": [
    "model_name_or_path = \"TheBloke/Llama-2-13B-chat-GGUF\"\n",
    "model_basename = \"llama-2-13b-chat.Q5_K_M.gguf\" # the model is in gguf format"
   ]
  }
 ],
 "metadata": {
  "kernelspec": {
   "display_name": "Python 3 (ipykernel)",
   "language": "python",
   "name": "python3"
  },
  "language_info": {
   "codemirror_mode": {
    "name": "ipython",
    "version": 3
   },
   "file_extension": ".py",
   "mimetype": "text/x-python",
   "name": "python",
   "nbconvert_exporter": "python",
   "pygments_lexer": "ipython3",
   "version": "3.9.6"
  }
 },
 "nbformat": 4,
 "nbformat_minor": 5
}
